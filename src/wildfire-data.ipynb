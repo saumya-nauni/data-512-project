{
 "cells": [
  {
   "cell_type": "markdown",
   "metadata": {},
   "source": [
    "# Data Acquisition\n",
    "\n",
    "### Notebook Purpose:\n",
    "\n",
    "The objective of this notebook is to collect and analyze wildfire data from a publicly available dataset. The dataset, retrieved from a US government repository, contains comprehensive information about wildfires. Our goal is to process this dataset and calculate the distance between each wildfire location and the city of 'Muskogee, Oklahoma'. Once this analysis is complete, we will save the resulting dataset as a separate CSV file for further exploration and research.\n",
    "\n",
    "### Data Source:\n",
    "\n",
    "The primary data source for this notebook is the 'Wildfire dataset,' which can be accessed from the following link: Wildfire dataset. This dataset is maintained by a US government agency and provides valuable insights into historical wildfire events. It contains a wealth of information, including the location, size, year, and other attributes of each wildfire.\n",
    "\n",
    "### Data Processing Steps:\n",
    "\n",
    "- **Data Retrieval**: We will start by retrieving the wildfire data from the provided dataset. This step involves downloading and loading the dataset into our analysis environment.\n",
    "- **Distance Calculation**: After obtaining the wildfire data, we will calculate the geographical distance between each wildfire location and the city of 'Muskogee, Oklahoma.' This analysis will provide us with valuable information about the proximity of wildfires to this specific city.\n",
    "- **Data Storage**: To facilitate further analysis and research, we will store the resulting dataset, which includes calculated distances, in a separate CSV file. This file will serve as the basis for future investigations and can be easily shared with others.\n",
    "\n",
    "By following these steps, we aim to gain a deeper understanding of the relationship between wildfires and the city of 'Muskogee, Oklahoma.' The resulting dataset will be a valuable resource for researchers, policymakers, and anyone interested in wildfire analysis and its impact on specific regions."
   ]
  },
  {
   "cell_type": "code",
   "execution_count": 1,
   "metadata": {
    "tags": []
   },
   "outputs": [],
   "source": [
    "# ----------------------- importing necessary libraries ---------------------- #\n",
    "import json\n",
    "import re\n",
    "import pandas as pd\n",
    "import geojson\n",
    "from tqdm import tqdm\n",
    "from wildfire.Reader import Reader as WFReader\n",
    "\n",
    "# importing custom functions from functions.py\n",
    "from functions import shortest_distance_from_place_to_fire_perimeter"
   ]
  },
  {
   "cell_type": "code",
   "execution_count": 2,
   "metadata": {},
   "outputs": [],
   "source": [
    "# ---------------------------- defining constants ---------------------------- #\n",
    "\n",
    "DATA_FILENAME = \"data/USGS_Wildland_Fire_Combined_Dataset.json\"\n",
    "\n",
    "CITY_LOCATIONS = {\n",
    "    'muskogee' :     {'city'   : 'Muskogee',\n",
    "                       'latlon' : [35.7479, -95.3697] },\n",
    "}"
   ]
  },
  {
   "cell_type": "code",
   "execution_count": 3,
   "metadata": {
    "collapsed": true,
    "jupyter": {
     "outputs_hidden": true
    },
    "tags": []
   },
   "outputs": [
    {
     "name": "stdout",
     "output_type": "stream",
     "text": [
      "Attempting to open 'data/USGS_Wildland_Fire_Combined_Dataset.json'\n",
      "Using GeoJSON module to load sample file 'data/USGS_Wildland_Fire_Combined_Dataset.json'\n",
      "The loaded JSON dictionary has the following keys:\n",
      "['displayFieldName', 'fieldAliases', 'geometryType', 'spatialReference', 'fields', 'features']\n",
      "\n"
     ]
    }
   ],
   "source": [
    "# ------------------ using wildfire reader to open the file ------------------ #\n",
    "print(f\"Attempting to open '{DATA_FILENAME}'\")\n",
    "geojson_file = open(DATA_FILENAME,\"r\")\n",
    "print(f\"Using GeoJSON module to load sample file '{DATA_FILENAME}'\")\n",
    "gj_data = geojson.load(geojson_file)\n",
    "geojson_file.close()\n",
    "\n",
    "# Print the keys of the dictionary\n",
    "gj_keys = list(gj_data.keys())\n",
    "print(\"The loaded JSON dictionary has the following keys:\")\n",
    "print(gj_keys)\n",
    "print()"
   ]
  },
  {
   "cell_type": "code",
   "execution_count": 4,
   "metadata": {},
   "outputs": [
    {
     "name": "stderr",
     "output_type": "stream",
     "text": [
      "Filtering Data: 100%|██████████| 135061/135061 [00:00<00:00, 182872.68it/s]"
     ]
    },
    {
     "name": "stdout",
     "output_type": "stream",
     "text": [
      "Number of records after filtering data': 117578\n",
      "\n"
     ]
    },
    {
     "name": "stderr",
     "output_type": "stream",
     "text": [
      "\n"
     ]
    }
   ],
   "source": [
    "# ---------------- filtering data to only include 1963 to 2023 --------------- #\n",
    "\n",
    "filtered_data = []\n",
    "\n",
    "all_wildfire = gj_data['features']\n",
    "\n",
    "for data_point in tqdm(all_wildfire, desc=\"Filtering Data\"):\n",
    "    if 1963 <= data_point['attributes']['Fire_Year'] <= 2023:\n",
    "        filtered_data.append(data_point)\n",
    "\n",
    "num_records = len(filtered_data)\n",
    "print(f\"Number of records after filtering data': {num_records}\\n\")"
   ]
  },
  {
   "cell_type": "markdown",
   "metadata": {},
   "source": [
    "### Calculating Distance Between Wildfires and Muskogee, Oklahoma:\n",
    "\n",
    "After loading the wildfire data as dictionaries, the next crucial step in the analysis is to determine the geographical distance between each wildfire location and the city of 'Muskogee, Oklahoma.' This distance measurement is essential for understanding the proximity of wildfires to the city and assessing potential risks.\n",
    "\n",
    "To perform this task, we employ a specialized function designed for calculating distances between two geographical coordinates.\n",
    "\n",
    "### Storing Calculated Distances:\n",
    "\n",
    "Once the distance is calculated for each fire in relation to Muskogee, Oklahoma, the resulting distances are stored within the attributes of each fire feature. Specifically, we add a new attribute, 'Distance_From_Muskogee,' to the feature's attributes. This attribute records the calculated distance in units such as miles or kilometers.\n",
    "\n",
    "By including these distances as attributes in the dataset, we ensure that the distance information is readily available for further analysis and visualization. Researchers and analysts can utilize this data to assess the potential impact of wildfires on Muskogee, evaluate risk factors, and make informed decisions regarding fire management and safety measures."
   ]
  },
  {
   "cell_type": "code",
   "execution_count": 5,
   "metadata": {},
   "outputs": [
    {
     "name": "stderr",
     "output_type": "stream",
     "text": [
      "100%|██████████| 117578/117578 [4:40:50<00:00,  6.98it/s] "
     ]
    },
    {
     "name": "stdout",
     "output_type": "stream",
     "text": [
      "73705\n"
     ]
    },
    {
     "name": "stderr",
     "output_type": "stream",
     "text": [
      "\n"
     ]
    }
   ],
   "source": [
    "# -------------- calculating distance from the fire to the city -------------- #\n",
    "\n",
    "# create an empty dictionary to store filtered features\n",
    "filtered_features = {}\n",
    "\n",
    "# get the location (city coordinates) you want to calculate the distance from\n",
    "place = CITY_LOCATIONS[\"muskogee\"]\n",
    "\n",
    "muskogee_wildfire = []\n",
    "\n",
    "# loop through each wildfire feature in the feature_list\n",
    "for wf_feature in tqdm(filtered_data):\n",
    "    if 'geometry' in wf_feature and 'rings' in wf_feature['geometry']:\n",
    "        distance = shortest_distance_from_place_to_fire_perimeter(place['latlon'], wf_feature['geometry']['rings'][0])\n",
    "        if distance[0] <= 1250:\n",
    "            wf_feature['attributes']['Distance_From_Muskogee'] = distance[0]\n",
    "            muskogee_wildfire.append(wf_feature)\n",
    "print(len(muskogee_wildfire))"
   ]
  },
  {
   "cell_type": "code",
   "execution_count": 6,
   "metadata": {},
   "outputs": [],
   "source": [
    "with open('data/muskogee_wildfire.json', 'w') as json_file:\n",
    "    json.dump(muskogee_wildfire, json_file)"
   ]
  },
  {
   "cell_type": "markdown",
   "metadata": {},
   "source": [
    "### Attribute Selection for Smoke Estimation and Predictive Analysis:\n",
    "\n",
    "Once we have calculated and stored the distances between wildfires and the city of 'Muskogee, Oklahoma,' the next critical step is to prepare the dataset for smoke estimation and predictive analysis. To achieve this, we need to refine the dataset by eliminating unnecessary attributes and retaining only those that are instrumental in our objective.\n",
    "\n",
    "### Retention of Relevant Attributes:\n",
    "\n",
    "1. Distance Attribute: The 'distance_from_city' attribute, which we calculated earlier, is a crucial feature for estimating the proximity of wildfires to the city. This attribute directly contributes to our smoke estimation and predictive analysis.\n",
    "\n",
    "2. Wildfire Characteristics: Attributes that describe the characteristics of the wildfires, such as fire size, fire type, and year of occurrence, are valuable for understanding how these factors relate to smoke levels and their impact.\n",
    "\n",
    "### Importance of Attribute Selection:\n",
    "\n",
    "The process of attribute selection is critical as it directly influences the quality and effectiveness of our smoke estimator and predictive analysis. By retaining only the most relevant attributes, we reduce data noise and enhance the interpretability of our models. This streamlined dataset allows us to focus on the key factors that affect smoke levels and wildfire behavior in the context of Muskogee, Oklahoma.\n",
    "\n",
    "The selected attributes serve as the foundation for building predictive models, conducting statistical analyses, and generating insights that can be used to assess the potential impact of wildfires on air quality and make informed decisions regarding public safety and environmental protection."
   ]
  },
  {
   "cell_type": "code",
   "execution_count": 7,
   "metadata": {},
   "outputs": [],
   "source": [
    "# -------------------- keeping only neccessary attributes -------------------- #\n",
    "\n",
    "necessary_attributes = [\n",
    "    'OBJECTID',\n",
    "    'Assigned_Fire_Type',\n",
    "    'Fire_Year',\n",
    "    'GIS_Acres',\n",
    "    'Listed_Fire_Dates',\n",
    "    'Distance_From_Muskogee'\n",
    "]\n",
    "\n",
    "filtered_data_list = []\n",
    "for original_data in muskogee_wildfire:\n",
    "    # remove the 'geometry' key from the dictionary\n",
    "    if 'geometry' in original_data:\n",
    "        del original_data['geometry']\n",
    "\n",
    "    # create a new dictionary with only the necessary attributes within 'attributes'\n",
    "    filtered_attributes = {key: original_data['attributes'][key] for key in necessary_attributes}\n",
    "\n",
    "    # update the 'attributes' key with the filtered attributes\n",
    "    original_data['attributes'] = filtered_attributes\n",
    "\n",
    "    # append the modified dictionary to the result list\n",
    "    filtered_data_list.append(original_data)\n"
   ]
  },
  {
   "cell_type": "markdown",
   "metadata": {},
   "source": [
    "## Extracting Wildfire Dates:\n",
    "\n",
    "In our analysis, we take an additional step to extract the date of each wildfire event. This process allows us to categorize wildfires and determine whether they fall within the defined annual fire season. The annual fire season, in this context, is a specific time period during which wildfires are more likely to occur and is crucial for understanding the seasonal patterns of wildfire activity."
   ]
  },
  {
   "cell_type": "code",
   "execution_count": 32,
   "metadata": {},
   "outputs": [],
   "source": [
    "# define regular expression patterns to match the listed ignition date\n",
    "ignition_pattern = r'Listed Other Fire Date\\(s\\): (\\d{4}-\\d{2}-\\d{2})'\n",
    "\n",
    "prescribed_pattern = r'Prescribed Fire Start Date: (\\d{4}-\\d{2}-\\d{2})'\n",
    "\n",
    "# process each dictionary in the list\n",
    "for original_data in filtered_data_list:\n",
    "    if isinstance(original_data['attributes']['Listed_Fire_Dates'], str):\n",
    "        # search for the ignition date pattern in the 'Listed_Fire_Dates' string\n",
    "        ignition_match = re.search(ignition_pattern, original_data['attributes']['Listed_Fire_Dates'])\n",
    "\n",
    "        prescribed_match = re.search(prescribed_pattern, original_data['attributes']['Listed_Fire_Dates'])\n",
    "\n",
    "        # update the 'Listed_Fire_Dates' value with the matched ignition date if found\n",
    "        if ignition_match:\n",
    "            ignition_date = ignition_match.group(1)  # extract the matched ignition date\n",
    "            original_data['attributes']['Listed_Fire_Dates'] = ignition_date\n",
    "\n",
    "        if prescribed_match:\n",
    "            prescribed_date = prescribed_match.group(1)  # extract the matched ignition date\n",
    "            original_data['attributes']['Listed_Fire_Dates'] = prescribed_date"
   ]
  },
  {
   "cell_type": "code",
   "execution_count": 33,
   "metadata": {},
   "outputs": [],
   "source": [
    "# ------------ converting to a pandas dataframe and storing as csv ----------- #\n",
    "\n",
    "df = pd.DataFrame([d['attributes'] for d in filtered_data_list])"
   ]
  },
  {
   "cell_type": "code",
   "execution_count": 35,
   "metadata": {},
   "outputs": [
    {
     "data": {
      "text/plain": [
       "73705"
      ]
     },
     "execution_count": 35,
     "metadata": {},
     "output_type": "execute_result"
    }
   ],
   "source": [
    "len(df)"
   ]
  },
  {
   "cell_type": "code",
   "execution_count": 37,
   "metadata": {},
   "outputs": [],
   "source": [
    "df['GIS_Acres'] = df['GIS_Acres'].round(2)\n",
    "df['Distance_From_Muskogee'] = df['Distance_From_Muskogee'].round(2)"
   ]
  },
  {
   "cell_type": "code",
   "execution_count": 38,
   "metadata": {},
   "outputs": [
    {
     "data": {
      "text/html": [
       "<div>\n",
       "<style scoped>\n",
       "    .dataframe tbody tr th:only-of-type {\n",
       "        vertical-align: middle;\n",
       "    }\n",
       "\n",
       "    .dataframe tbody tr th {\n",
       "        vertical-align: top;\n",
       "    }\n",
       "\n",
       "    .dataframe thead th {\n",
       "        text-align: right;\n",
       "    }\n",
       "</style>\n",
       "<table border=\"1\" class=\"dataframe\">\n",
       "  <thead>\n",
       "    <tr style=\"text-align: right;\">\n",
       "      <th></th>\n",
       "      <th>OBJECTID</th>\n",
       "      <th>Assigned_Fire_Type</th>\n",
       "      <th>Fire_Year</th>\n",
       "      <th>GIS_Acres</th>\n",
       "      <th>Listed_Fire_Dates</th>\n",
       "      <th>Distance_From_Muskogee</th>\n",
       "    </tr>\n",
       "  </thead>\n",
       "  <tbody>\n",
       "    <tr>\n",
       "      <th>0</th>\n",
       "      <td>14302</td>\n",
       "      <td>Wildfire</td>\n",
       "      <td>1963</td>\n",
       "      <td>10395.01</td>\n",
       "      <td>1963-08-06</td>\n",
       "      <td>1198.52</td>\n",
       "    </tr>\n",
       "    <tr>\n",
       "      <th>1</th>\n",
       "      <td>14303</td>\n",
       "      <td>Wildfire</td>\n",
       "      <td>1963</td>\n",
       "      <td>9983.61</td>\n",
       "      <td>1963-08-06</td>\n",
       "      <td>1248.93</td>\n",
       "    </tr>\n",
       "    <tr>\n",
       "      <th>2</th>\n",
       "      <td>14304</td>\n",
       "      <td>Wildfire</td>\n",
       "      <td>1963</td>\n",
       "      <td>9674.18</td>\n",
       "      <td>1963-12-31</td>\n",
       "      <td>1122.08</td>\n",
       "    </tr>\n",
       "    <tr>\n",
       "      <th>3</th>\n",
       "      <td>14305</td>\n",
       "      <td>Wildfire</td>\n",
       "      <td>1963</td>\n",
       "      <td>4995.91</td>\n",
       "      <td>2018-05-02</td>\n",
       "      <td>623.75</td>\n",
       "    </tr>\n",
       "    <tr>\n",
       "      <th>4</th>\n",
       "      <td>14306</td>\n",
       "      <td>Wildfire</td>\n",
       "      <td>1963</td>\n",
       "      <td>4995.25</td>\n",
       "      <td>2018-05-02</td>\n",
       "      <td>635.01</td>\n",
       "    </tr>\n",
       "  </tbody>\n",
       "</table>\n",
       "</div>"
      ],
      "text/plain": [
       "   OBJECTID Assigned_Fire_Type  Fire_Year  GIS_Acres Listed_Fire_Dates  \\\n",
       "0     14302           Wildfire       1963   10395.01        1963-08-06   \n",
       "1     14303           Wildfire       1963    9983.61        1963-08-06   \n",
       "2     14304           Wildfire       1963    9674.18        1963-12-31   \n",
       "3     14305           Wildfire       1963    4995.91        2018-05-02   \n",
       "4     14306           Wildfire       1963    4995.25        2018-05-02   \n",
       "\n",
       "   Distance_From_Muskogee  \n",
       "0                 1198.52  \n",
       "1                 1248.93  \n",
       "2                 1122.08  \n",
       "3                  623.75  \n",
       "4                  635.01  "
      ]
     },
     "execution_count": 38,
     "metadata": {},
     "output_type": "execute_result"
    }
   ],
   "source": [
    "df.head()"
   ]
  },
  {
   "cell_type": "code",
   "execution_count": 39,
   "metadata": {},
   "outputs": [],
   "source": [
    "df.to_csv(\"data/muskogee.csv\")"
   ]
  },
  {
   "cell_type": "code",
   "execution_count": null,
   "metadata": {},
   "outputs": [],
   "source": []
  }
 ],
 "metadata": {
  "kernelspec": {
   "display_name": "Python 3 (ipykernel)",
   "language": "python",
   "name": "python3"
  },
  "language_info": {
   "codemirror_mode": {
    "name": "ipython",
    "version": 3
   },
   "file_extension": ".py",
   "mimetype": "text/x-python",
   "name": "python",
   "nbconvert_exporter": "python",
   "pygments_lexer": "ipython3",
   "version": "3.9.13"
  }
 },
 "nbformat": 4,
 "nbformat_minor": 4
}
